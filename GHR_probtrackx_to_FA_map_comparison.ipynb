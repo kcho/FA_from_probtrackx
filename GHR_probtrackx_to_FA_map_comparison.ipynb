{
 "cells": [
  {
   "cell_type": "markdown",
   "metadata": {},
   "source": [
    "# GHR project "
   ]
  },
  {
   "cell_type": "markdown",
   "metadata": {},
   "source": [
    "## FA analysis of the thalamo-OFC tracts"
   ]
  },
  {
   "cell_type": "markdown",
   "metadata": {},
   "source": [
    "> Import libraries"
   ]
  },
  {
   "cell_type": "code",
   "execution_count": 79,
   "metadata": {
    "collapsed": false
   },
   "outputs": [],
   "source": [
    "import pandas as pd\n",
    "import re\n",
    "import os\n",
    "pd.set_option('max_rows',5000)\n",
    "from scipy import stats \n",
    "import numpy as np"
   ]
  },
  {
   "cell_type": "markdown",
   "metadata": {},
   "source": [
    "> Define where the FA data is and read it"
   ]
  },
  {
   "cell_type": "code",
   "execution_count": 3,
   "metadata": {
    "collapsed": true
   },
   "outputs": [],
   "source": [
    "dataLoc = '/Volumes/CCNC_3T_2/kcho/ccnc/GHR_project/FA_from_probtrackx'"
   ]
  },
  {
   "cell_type": "code",
   "execution_count": 15,
   "metadata": {
    "collapsed": false
   },
   "outputs": [],
   "source": [
    "with open(os.path.join(dataLoc, 'FA.txt'),'r') as f:\n",
    "    dataList = [x.strip() for x in f.readlines()]"
   ]
  },
  {
   "cell_type": "markdown",
   "metadata": {},
   "source": [
    "> Cleanse the data"
   ]
  },
  {
   "cell_type": "code",
   "execution_count": 129,
   "metadata": {
    "collapsed": false
   },
   "outputs": [],
   "source": [
    "dfDict = {}\n",
    "for i in dataList:\n",
    "    '''\n",
    "    Loop through each lines and split them by space.\n",
    "    Separate each information and add them to the dictionary.\n",
    "    Separating side in the key is very important.\n",
    "    Floatfi(?) the FA column\n",
    "    '''\n",
    "    data = i.split(' ')\n",
    "    subject = data[0]\n",
    "    group = data[0][:3]\n",
    "    side = data[1]\n",
    "    fa = float(data[2])\n",
    "    dfDict[subject+'_'+side] = [subject,side, group, fa]\n",
    "\n",
    "# Convert the dictionary into dataframe using index orientation\n",
    "df = pd.DataFrame.from_dict(dfDict, orient='index')\n",
    "df.columns = ['subject','side','group','fa']"
   ]
  },
  {
   "cell_type": "markdown",
   "metadata": {},
   "source": [
    "## Statistics of all subjects"
   ]
  },
  {
   "cell_type": "markdown",
   "metadata": {},
   "source": [
    "> Left"
   ]
  },
  {
   "cell_type": "code",
   "execution_count": 137,
   "metadata": {
    "collapsed": false
   },
   "outputs": [
    {
     "name": "stdout",
     "output_type": "stream",
     "text": [
      "Ttest_indResult(statistic=-2.7797762763191138, pvalue=0.0061879068846912933)\n"
     ]
    },
    {
     "data": {
      "text/html": [
       "<div>\n",
       "<table border=\"1\" class=\"dataframe\">\n",
       "  <thead>\n",
       "    <tr style=\"text-align: right;\">\n",
       "      <th></th>\n",
       "      <th>fa</th>\n",
       "    </tr>\n",
       "    <tr>\n",
       "      <th>group</th>\n",
       "      <th></th>\n",
       "    </tr>\n",
       "  </thead>\n",
       "  <tbody>\n",
       "    <tr>\n",
       "      <th>GHR</th>\n",
       "      <td>0.407223</td>\n",
       "    </tr>\n",
       "    <tr>\n",
       "      <th>NOR</th>\n",
       "      <td>0.418484</td>\n",
       "    </tr>\n",
       "  </tbody>\n",
       "</table>\n",
       "</div>"
      ],
      "text/plain": [
       "             fa\n",
       "group          \n",
       "GHR    0.407223\n",
       "NOR    0.418484"
      ]
     },
     "execution_count": 137,
     "metadata": {},
     "output_type": "execute_result"
    }
   ],
   "source": [
    "leftDf = df.groupby('side').get_group('lh')\n",
    "print stats.ttest_ind(leftDf.groupby('group').get_group('GHR').fa,\n",
    "               leftDf.groupby('group').get_group('NOR').fa)\n",
    "leftDf.groupby('group').mean()"
   ]
  },
  {
   "cell_type": "code",
   "execution_count": 138,
   "metadata": {
    "collapsed": false
   },
   "outputs": [
    {
     "name": "stdout",
     "output_type": "stream",
     "text": [
      "Ttest_indResult(statistic=-1.5118658790249624, pvalue=0.13282199087860591)\n"
     ]
    },
    {
     "data": {
      "text/html": [
       "<div>\n",
       "<table border=\"1\" class=\"dataframe\">\n",
       "  <thead>\n",
       "    <tr style=\"text-align: right;\">\n",
       "      <th></th>\n",
       "      <th>fa</th>\n",
       "    </tr>\n",
       "    <tr>\n",
       "      <th>group</th>\n",
       "      <th></th>\n",
       "    </tr>\n",
       "  </thead>\n",
       "  <tbody>\n",
       "    <tr>\n",
       "      <th>GHR</th>\n",
       "      <td>0.401045</td>\n",
       "    </tr>\n",
       "    <tr>\n",
       "      <th>NOR</th>\n",
       "      <td>0.407062</td>\n",
       "    </tr>\n",
       "  </tbody>\n",
       "</table>\n",
       "</div>"
      ],
      "text/plain": [
       "             fa\n",
       "group          \n",
       "GHR    0.401045\n",
       "NOR    0.407062"
      ]
     },
     "execution_count": 138,
     "metadata": {},
     "output_type": "execute_result"
    }
   ],
   "source": [
    "rightDf = df.groupby('side').get_group('rh')\n",
    "print stats.ttest_ind(rightDf.groupby('group').get_group('GHR').fa.astype(float),\n",
    "               rightDf.groupby('group').get_group('NOR').fa.astype(float))\n",
    "rightDf.groupby('group').mean()"
   ]
  },
  {
   "cell_type": "markdown",
   "metadata": {},
   "source": [
    "## Load matched subject list"
   ]
  },
  {
   "cell_type": "markdown",
   "metadata": {},
   "source": [
    "> Load matched subject list"
   ]
  },
  {
   "cell_type": "code",
   "execution_count": 144,
   "metadata": {
    "collapsed": false
   },
   "outputs": [
    {
     "data": {
      "text/html": [
       "<div>\n",
       "<table border=\"1\" class=\"dataframe\">\n",
       "  <thead>\n",
       "    <tr style=\"text-align: right;\">\n",
       "      <th></th>\n",
       "      <th>folderName</th>\n",
       "    </tr>\n",
       "    <tr>\n",
       "      <th>group</th>\n",
       "      <th></th>\n",
       "    </tr>\n",
       "  </thead>\n",
       "  <tbody>\n",
       "    <tr>\n",
       "      <th>GHR</th>\n",
       "      <td>35</td>\n",
       "    </tr>\n",
       "    <tr>\n",
       "      <th>NOR</th>\n",
       "      <td>34</td>\n",
       "    </tr>\n",
       "  </tbody>\n",
       "</table>\n",
       "</div>"
      ],
      "text/plain": [
       "       folderName\n",
       "group            \n",
       "GHR            35\n",
       "NOR            34"
      ]
     },
     "execution_count": 144,
     "metadata": {},
     "output_type": "execute_result"
    }
   ],
   "source": [
    "matchedDf = pd.read_csv(\"/Volumes/CCNC_3T_2/kcho/ccnc/GHR_project/python_script/propensity_matched_20151201_missing_IQ_as_0_Education_as_0.csv\")\n",
    "matchedDf.group = matchedDf.group.map({0:'NOR',1:'GHR'})\n",
    "matchedDf = matchedDf[['Unnamed: 0','folderName','sex','age','IQ','Education','handedness','group']]\n",
    "matchedDf.columns = ['index','folderName','sex','age','IQ','Education','handedness','group']\n",
    "matchedDf = matchedDf.set_index('index')\n",
    "matchedDf.groupby('group').count()[['folderName']]"
   ]
  },
  {
   "cell_type": "markdown",
   "metadata": {},
   "source": [
    "> Select those included in the matched set"
   ]
  },
  {
   "cell_type": "code",
   "execution_count": 145,
   "metadata": {
    "collapsed": true
   },
   "outputs": [],
   "source": [
    "df_matched = df.set_index('subject').ix[matchedDf.folderName.unique()].reset_index()"
   ]
  },
  {
   "cell_type": "code",
   "execution_count": 148,
   "metadata": {
    "collapsed": false,
    "scrolled": true
   },
   "outputs": [
    {
     "data": {
      "text/plain": [
       "array(['GHR01_LHK', 'GHR02_LJH', 'GHR03_PSJ', 'GHR04_PJS', 'GHR05_LJK',\n",
       "       'GHR06_LSH', 'GHR07_KPJ', 'GHR08_LEK', 'GHR09_KBM', 'GHR10_KYR',\n",
       "       'GHR11_KYJ', 'GHR12_SYS', 'GHR13_LYJ', 'GHR14_KJH', 'GHR15_EHK',\n",
       "       'GHR16_PES', 'GHR17_LJW', 'GHR18_CJY', 'GHR19_KJI', 'GHR20_CCH',\n",
       "       'GHR21_HSM', 'GHR22_CHJ', 'GHR23_KMJ', 'GHR24_SJH', 'GHR25_JHC',\n",
       "       'GHR26_KSY', 'GHR27_KSH', 'GHR29_CYR', 'GHR30_SSH', 'GHR31_JJA',\n",
       "       'GHR32_JEA', 'GHR33_KSJ', 'GHR34_HYR', 'GHR35_JYY', 'GHR36_BHJ',\n",
       "       'NOR10_KMW', 'NOR13_SMY', 'NOR15_KKY', 'NOR17_YKH', 'NOR18_JJM',\n",
       "       'NOR20_JJR', 'NOR24_YJA', 'NOR26_YJH', 'NOR27_YKS', 'NOR28_SHM',\n",
       "       'NOR31_HKO', 'NOR32_LJW', 'NOR34_CES', 'NOR35_SNH', 'NOR36_HYS',\n",
       "       'NOR48_KTH', 'NOR50_KEJ', 'NOR53_PSH', 'NOR57_CJW', 'NOR59_KDW',\n",
       "       'NOR60_KSH', 'NOR61_KSH', 'NOR64_SSJ', 'NOR65_LES', 'NOR66_LDY',\n",
       "       'NOR67_LYE', 'NOR68_SDS', 'NOR76_KKT', 'NOR78_LSM', 'NOR82_PJI',\n",
       "       'NOR87_YSH', 'NOR88_BKS', 'NOR91_SJY', 'NOR93_BHU'], dtype=object)"
      ]
     },
     "execution_count": 148,
     "metadata": {},
     "output_type": "execute_result"
    }
   ],
   "source": [
    "df_matched.subject.unique()"
   ]
  },
  {
   "cell_type": "markdown",
   "metadata": {},
   "source": [
    "## Group Comparison"
   ]
  },
  {
   "cell_type": "markdown",
   "metadata": {},
   "source": [
    "> Left comparison"
   ]
  },
  {
   "cell_type": "code",
   "execution_count": 150,
   "metadata": {
    "collapsed": false
   },
   "outputs": [
    {
     "name": "stdout",
     "output_type": "stream",
     "text": [
      "Ttest_indResult(statistic=-2.6634245640219381, pvalue=0.0096784170333936576)\n"
     ]
    },
    {
     "data": {
      "text/html": [
       "<div>\n",
       "<table border=\"1\" class=\"dataframe\">\n",
       "  <thead>\n",
       "    <tr style=\"text-align: right;\">\n",
       "      <th></th>\n",
       "      <th>fa</th>\n",
       "    </tr>\n",
       "    <tr>\n",
       "      <th>group</th>\n",
       "      <th></th>\n",
       "    </tr>\n",
       "  </thead>\n",
       "  <tbody>\n",
       "    <tr>\n",
       "      <th>GHR</th>\n",
       "      <td>0.407277</td>\n",
       "    </tr>\n",
       "    <tr>\n",
       "      <th>NOR</th>\n",
       "      <td>0.421191</td>\n",
       "    </tr>\n",
       "  </tbody>\n",
       "</table>\n",
       "</div>"
      ],
      "text/plain": [
       "             fa\n",
       "group          \n",
       "GHR    0.407277\n",
       "NOR    0.421191"
      ]
     },
     "execution_count": 150,
     "metadata": {},
     "output_type": "execute_result"
    }
   ],
   "source": [
    "leftDf = df_matched.groupby('side').get_group('lh')\n",
    "print stats.ttest_ind(leftDf.groupby('group').get_group('GHR').fa.astype(float),\n",
    "                      leftDf.groupby('group').get_group('NOR').fa.astype(float))\n",
    "leftDf.groupby('group').mean()"
   ]
  },
  {
   "cell_type": "markdown",
   "metadata": {},
   "source": [
    "> Right comparison"
   ]
  },
  {
   "cell_type": "code",
   "execution_count": 152,
   "metadata": {
    "collapsed": false
   },
   "outputs": [
    {
     "name": "stdout",
     "output_type": "stream",
     "text": [
      "Ttest_indResult(statistic=-1.3202033418514245, pvalue=0.19125972445134323)\n"
     ]
    },
    {
     "data": {
      "text/html": [
       "<div>\n",
       "<table border=\"1\" class=\"dataframe\">\n",
       "  <thead>\n",
       "    <tr style=\"text-align: right;\">\n",
       "      <th></th>\n",
       "      <th>fa</th>\n",
       "    </tr>\n",
       "    <tr>\n",
       "      <th>group</th>\n",
       "      <th></th>\n",
       "    </tr>\n",
       "  </thead>\n",
       "  <tbody>\n",
       "    <tr>\n",
       "      <th>GHR</th>\n",
       "      <td>0.397851</td>\n",
       "    </tr>\n",
       "    <tr>\n",
       "      <th>NOR</th>\n",
       "      <td>0.405097</td>\n",
       "    </tr>\n",
       "  </tbody>\n",
       "</table>\n",
       "</div>"
      ],
      "text/plain": [
       "             fa\n",
       "group          \n",
       "GHR    0.397851\n",
       "NOR    0.405097"
      ]
     },
     "execution_count": 152,
     "metadata": {},
     "output_type": "execute_result"
    }
   ],
   "source": [
    "rightDf = df_matched.groupby('side').get_group('rh')\n",
    "print stats.ttest_ind(rightDf.groupby('group').get_group('GHR').fa.astype(float),\n",
    "                      rightDf.groupby('group').get_group('NOR').fa.astype(float))\n",
    "rightDf.groupby('group').mean()"
   ]
  },
  {
   "cell_type": "markdown",
   "metadata": {},
   "source": [
    "### Left and right mean comparison"
   ]
  },
  {
   "cell_type": "markdown",
   "metadata": {},
   "source": [
    "> Make mean dataframe : (left + right) / 2"
   ]
  },
  {
   "cell_type": "code",
   "execution_count": 161,
   "metadata": {
    "collapsed": false
   },
   "outputs": [],
   "source": [
    "df_mean = df_matched.groupby(['subject','group']).mean().reset_index()"
   ]
  },
  {
   "cell_type": "markdown",
   "metadata": {},
   "source": [
    "> Comparison"
   ]
  },
  {
   "cell_type": "code",
   "execution_count": 160,
   "metadata": {
    "collapsed": false
   },
   "outputs": [
    {
     "data": {
      "text/html": [
       "<div>\n",
       "<table border=\"1\" class=\"dataframe\">\n",
       "  <thead>\n",
       "    <tr style=\"text-align: right;\">\n",
       "      <th></th>\n",
       "      <th>fa</th>\n",
       "    </tr>\n",
       "    <tr>\n",
       "      <th>group</th>\n",
       "      <th></th>\n",
       "    </tr>\n",
       "  </thead>\n",
       "  <tbody>\n",
       "    <tr>\n",
       "      <th>GHR</th>\n",
       "      <td>0.402564</td>\n",
       "    </tr>\n",
       "    <tr>\n",
       "      <th>NOR</th>\n",
       "      <td>0.413144</td>\n",
       "    </tr>\n",
       "  </tbody>\n",
       "</table>\n",
       "</div>"
      ],
      "text/plain": [
       "             fa\n",
       "group          \n",
       "GHR    0.402564\n",
       "NOR    0.413144"
      ]
     },
     "execution_count": 160,
     "metadata": {},
     "output_type": "execute_result"
    }
   ],
   "source": [
    "stats.ttest_ind(df_mean.groupby('group').get_group('GHR').fa,\n",
    "                df_mean.groupby('group').get_group('NOR').fa)\n",
    "df_mean.groupby('group').mean()"
   ]
  }
 ],
 "metadata": {
  "kernelspec": {
   "display_name": "Python 2",
   "language": "python",
   "name": "python2"
  },
  "language_info": {
   "codemirror_mode": {
    "name": "ipython",
    "version": 2
   },
   "file_extension": ".py",
   "mimetype": "text/x-python",
   "name": "python",
   "nbconvert_exporter": "python",
   "pygments_lexer": "ipython2",
   "version": "2.7.2"
  }
 },
 "nbformat": 4,
 "nbformat_minor": 0
}
